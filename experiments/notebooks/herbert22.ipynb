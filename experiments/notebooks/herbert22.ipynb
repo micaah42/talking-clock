{
 "cells": [
  {
   "cell_type": "code",
   "execution_count": 28,
   "metadata": {
    "collapsed": true,
    "pycharm": {
     "name": "#%%\n"
    }
   },
   "outputs": [],
   "source": [
    "import os\n",
    "import urllib\n",
    "import datetime\n",
    "import pandas as pd\n",
    "from pathlib import Path\n",
    "import matplotlib.pyplot as plt"
   ]
  },
  {
   "cell_type": "code",
   "execution_count": 3,
   "outputs": [],
   "source": [
    "posts = pd.read_csv(os.path.join(Path.home(), 'socialdata', 'fbaccount', 'herbertkickl', 'fetch5', 'posts.csv'))"
   ],
   "metadata": {
    "collapsed": false,
    "pycharm": {
     "name": "#%%\n"
    }
   }
  },
  {
   "cell_type": "code",
   "execution_count": 4,
   "outputs": [
    {
     "data": {
      "text/plain": "             post_id                                               text  \\\n0    561878178638317  Nehammers „europäischer Vorbereitungsraum“ für...   \n1    561785455314256  Während die Österreicher unter der Teuerung le...   \n2    561690108657124  98 Prozent der erwachsenen Portugiesen wurden ...   \n3    384719480288450  Im Bundesrat gab es diese Woche wieder eine Re...   \n4    561298565362945  Im Bundesrat gab es diese Woche wieder eine Re...   \n..               ...                                                ...   \n545  499146641578138  🇦🇹 Im Zuge des Steyr-Besuchs gab es auch einen...   \n546  499132331579569  🇦🇹Ist Österreich überhaupt noch neutral? Oder ...   \n547  498970688262400  Die Bundesregierung muss so schnell wie möglic...   \n548  498962118263257  🇦🇹 Der Spaziergang für Grundrechte, Freiheit &...   \n549  498566964969439  DANKE OBERÖSTERREICH! 💙\\n\\n🇦🇹 Gerade in Oberös...   \n\n                                             post_text  \\\n0    Nehammers „europäischer Vorbereitungsraum“ für...   \n1    Während die Österreicher unter der Teuerung le...   \n2    98 Prozent der erwachsenen Portugiesen wurden ...   \n3    Im Bundesrat gab es diese Woche wieder eine Re...   \n4    Im Bundesrat gab es diese Woche wieder eine Re...   \n..                                                 ...   \n545  🇦🇹 Im Zuge des Steyr-Besuchs gab es auch einen...   \n546  🇦🇹Ist Österreich überhaupt noch neutral? Oder ...   \n547  Die Bundesregierung muss so schnell wie möglic...   \n548  🇦🇹 Der Spaziergang für Grundrechte, Freiheit &...   \n549  DANKE OBERÖSTERREICH! 💙\\n\\n🇦🇹 Gerade in Oberös...   \n\n                                           shared_text  original_text  \\\n0                                                  NaN            NaN   \n1                                                  NaN            NaN   \n2                                                  NaN            NaN   \n3                                                  NaN            NaN   \n4    Christoph Steiner liest Regierung die Leviten:...            NaN   \n..                                                 ...            ...   \n545  „Impfpflicht ist absolute Perversion!“ – Herbe...            NaN   \n546                                                NaN            NaN   \n547                                                NaN            NaN   \n548                                                NaN            NaN   \n549                                                NaN            NaN   \n\n                    time   timestamp  \\\n0    2022-06-05 16:37:55  1654439875   \n1    2022-06-05 13:49:04  1654429744   \n2    2022-06-05 10:21:40  1654417300   \n3    2022-06-04 19:30:16  1654363816   \n4    2022-06-04 18:52:36  1654361556   \n..                   ...         ...   \n545  2022-02-28 18:20:19  1646068819   \n546  2022-02-28 17:52:21  1646067141   \n547  2022-02-28 14:00:05  1646053205   \n548  2022-02-28 12:27:35  1646047655   \n549  2022-02-27 20:00:47  1645988447   \n\n                                                 image  \\\n0    https://scontent.flnz1-1.fna.fbcdn.net/v/t39.3...   \n1    https://scontent.flnz1-1.fna.fbcdn.net/v/t39.3...   \n2                                                  NaN   \n3                                                  NaN   \n4                                                  NaN   \n..                                                 ...   \n545                                                NaN   \n546                                                NaN   \n547  https://scontent.flnz1-1.fna.fbcdn.net/v/t39.3...   \n548                                                NaN   \n549                                                NaN   \n\n                                      image_lowquality  \\\n0    https://scontent.flnz1-1.fna.fbcdn.net/v/t39.3...   \n1    https://scontent.flnz1-1.fna.fbcdn.net/v/t39.3...   \n2    https://scontent.flnz1-1.fna.fbcdn.net/v/t39.3...   \n3    https://scontent.flnz1-1.fna.fbcdn.net/v/t15.5...   \n4    https://scontent.xx.fbcdn.net/m1/v/t6/An_UvxJX...   \n..                                                 ...   \n545  https://scontent.xx.fbcdn.net/m1/v/t6/An_UvxJX...   \n546  https://scontent.flnz1-1.fna.fbcdn.net/v/t15.5...   \n547  https://scontent.flnz1-1.fna.fbcdn.net/v/t39.3...   \n548  https://scontent.flnz1-1.fna.fbcdn.net/v/t15.5...   \n549  https://scontent.flnz1-1.fna.fbcdn.net/v/t39.3...   \n\n                                                images  ... with  \\\n0    ['https://scontent.flnz1-1.fna.fbcdn.net/v/t39...  ...  NaN   \n1    ['https://scontent.flnz1-1.fna.fbcdn.net/v/t39...  ...  NaN   \n2                                               [None]  ...  NaN   \n3                                                   []  ...  NaN   \n4                                                   []  ...  NaN   \n..                                                 ...  ...  ...   \n545                                                 []  ...  NaN   \n546                                                 []  ...  NaN   \n547  ['https://scontent.flnz1-1.fna.fbcdn.net/v/t39...  ...  NaN   \n548                                                 []  ...  NaN   \n549   [None, None, None, None, None, None, None, None]  ...  NaN   \n\n              page_id sharers      image_id            image_ids  was_live  \\\n0    1977684662509834     NaN  5.618775e+14  ['561877511971717']     False   \n1    1977684662509834     NaN  5.617854e+14  ['561785435314258']     False   \n2    1977684662509834     NaN  5.616901e+14  ['561690081990460']     False   \n3    1977684662509834     NaN           NaN                   []     False   \n4    1977684662509834     NaN           NaN                   []     False   \n..                ...     ...           ...                  ...       ...   \n545  1977684662509834     NaN           NaN                   []     False   \n546  1977684662509834     NaN           NaN                   []     False   \n547  1977684662509834     NaN  4.989704e+14  ['498970408262428']     False   \n548  1977684662509834     NaN           NaN                   []     False   \n549  1977684662509834     NaN           NaN                   []     False   \n\n                   fetched_time  video_ids  videos header  \n0    2022-06-05 17:22:46.654056        NaN     NaN    NaN  \n1    2022-06-05 17:22:49.018526        NaN     NaN    NaN  \n2    2022-06-05 17:22:51.209918        NaN     NaN    NaN  \n3    2022-06-05 17:22:55.889388        NaN     NaN    NaN  \n4    2022-06-05 17:22:57.014366        NaN     NaN    NaN  \n..                          ...        ...     ...    ...  \n545  2022-06-05 17:59:05.596759        NaN     NaN    NaN  \n546  2022-06-05 17:59:10.458326        NaN     NaN    NaN  \n547  2022-06-05 17:59:15.877583        NaN     NaN    NaN  \n548  2022-06-05 17:59:21.657388        NaN     NaN    NaN  \n549  2022-06-05 17:59:35.588928         []      []    NaN  \n\n[550 rows x 54 columns]",
      "text/html": "<div>\n<style scoped>\n    .dataframe tbody tr th:only-of-type {\n        vertical-align: middle;\n    }\n\n    .dataframe tbody tr th {\n        vertical-align: top;\n    }\n\n    .dataframe thead th {\n        text-align: right;\n    }\n</style>\n<table border=\"1\" class=\"dataframe\">\n  <thead>\n    <tr style=\"text-align: right;\">\n      <th></th>\n      <th>post_id</th>\n      <th>text</th>\n      <th>post_text</th>\n      <th>shared_text</th>\n      <th>original_text</th>\n      <th>time</th>\n      <th>timestamp</th>\n      <th>image</th>\n      <th>image_lowquality</th>\n      <th>images</th>\n      <th>...</th>\n      <th>with</th>\n      <th>page_id</th>\n      <th>sharers</th>\n      <th>image_id</th>\n      <th>image_ids</th>\n      <th>was_live</th>\n      <th>fetched_time</th>\n      <th>video_ids</th>\n      <th>videos</th>\n      <th>header</th>\n    </tr>\n  </thead>\n  <tbody>\n    <tr>\n      <th>0</th>\n      <td>561878178638317</td>\n      <td>Nehammers „europäischer Vorbereitungsraum“ für...</td>\n      <td>Nehammers „europäischer Vorbereitungsraum“ für...</td>\n      <td>NaN</td>\n      <td>NaN</td>\n      <td>2022-06-05 16:37:55</td>\n      <td>1654439875</td>\n      <td>https://scontent.flnz1-1.fna.fbcdn.net/v/t39.3...</td>\n      <td>https://scontent.flnz1-1.fna.fbcdn.net/v/t39.3...</td>\n      <td>['https://scontent.flnz1-1.fna.fbcdn.net/v/t39...</td>\n      <td>...</td>\n      <td>NaN</td>\n      <td>1977684662509834</td>\n      <td>NaN</td>\n      <td>5.618775e+14</td>\n      <td>['561877511971717']</td>\n      <td>False</td>\n      <td>2022-06-05 17:22:46.654056</td>\n      <td>NaN</td>\n      <td>NaN</td>\n      <td>NaN</td>\n    </tr>\n    <tr>\n      <th>1</th>\n      <td>561785455314256</td>\n      <td>Während die Österreicher unter der Teuerung le...</td>\n      <td>Während die Österreicher unter der Teuerung le...</td>\n      <td>NaN</td>\n      <td>NaN</td>\n      <td>2022-06-05 13:49:04</td>\n      <td>1654429744</td>\n      <td>https://scontent.flnz1-1.fna.fbcdn.net/v/t39.3...</td>\n      <td>https://scontent.flnz1-1.fna.fbcdn.net/v/t39.3...</td>\n      <td>['https://scontent.flnz1-1.fna.fbcdn.net/v/t39...</td>\n      <td>...</td>\n      <td>NaN</td>\n      <td>1977684662509834</td>\n      <td>NaN</td>\n      <td>5.617854e+14</td>\n      <td>['561785435314258']</td>\n      <td>False</td>\n      <td>2022-06-05 17:22:49.018526</td>\n      <td>NaN</td>\n      <td>NaN</td>\n      <td>NaN</td>\n    </tr>\n    <tr>\n      <th>2</th>\n      <td>561690108657124</td>\n      <td>98 Prozent der erwachsenen Portugiesen wurden ...</td>\n      <td>98 Prozent der erwachsenen Portugiesen wurden ...</td>\n      <td>NaN</td>\n      <td>NaN</td>\n      <td>2022-06-05 10:21:40</td>\n      <td>1654417300</td>\n      <td>NaN</td>\n      <td>https://scontent.flnz1-1.fna.fbcdn.net/v/t39.3...</td>\n      <td>[None]</td>\n      <td>...</td>\n      <td>NaN</td>\n      <td>1977684662509834</td>\n      <td>NaN</td>\n      <td>5.616901e+14</td>\n      <td>['561690081990460']</td>\n      <td>False</td>\n      <td>2022-06-05 17:22:51.209918</td>\n      <td>NaN</td>\n      <td>NaN</td>\n      <td>NaN</td>\n    </tr>\n    <tr>\n      <th>3</th>\n      <td>384719480288450</td>\n      <td>Im Bundesrat gab es diese Woche wieder eine Re...</td>\n      <td>Im Bundesrat gab es diese Woche wieder eine Re...</td>\n      <td>NaN</td>\n      <td>NaN</td>\n      <td>2022-06-04 19:30:16</td>\n      <td>1654363816</td>\n      <td>NaN</td>\n      <td>https://scontent.flnz1-1.fna.fbcdn.net/v/t15.5...</td>\n      <td>[]</td>\n      <td>...</td>\n      <td>NaN</td>\n      <td>1977684662509834</td>\n      <td>NaN</td>\n      <td>NaN</td>\n      <td>[]</td>\n      <td>False</td>\n      <td>2022-06-05 17:22:55.889388</td>\n      <td>NaN</td>\n      <td>NaN</td>\n      <td>NaN</td>\n    </tr>\n    <tr>\n      <th>4</th>\n      <td>561298565362945</td>\n      <td>Im Bundesrat gab es diese Woche wieder eine Re...</td>\n      <td>Im Bundesrat gab es diese Woche wieder eine Re...</td>\n      <td>Christoph Steiner liest Regierung die Leviten:...</td>\n      <td>NaN</td>\n      <td>2022-06-04 18:52:36</td>\n      <td>1654361556</td>\n      <td>NaN</td>\n      <td>https://scontent.xx.fbcdn.net/m1/v/t6/An_UvxJX...</td>\n      <td>[]</td>\n      <td>...</td>\n      <td>NaN</td>\n      <td>1977684662509834</td>\n      <td>NaN</td>\n      <td>NaN</td>\n      <td>[]</td>\n      <td>False</td>\n      <td>2022-06-05 17:22:57.014366</td>\n      <td>NaN</td>\n      <td>NaN</td>\n      <td>NaN</td>\n    </tr>\n    <tr>\n      <th>...</th>\n      <td>...</td>\n      <td>...</td>\n      <td>...</td>\n      <td>...</td>\n      <td>...</td>\n      <td>...</td>\n      <td>...</td>\n      <td>...</td>\n      <td>...</td>\n      <td>...</td>\n      <td>...</td>\n      <td>...</td>\n      <td>...</td>\n      <td>...</td>\n      <td>...</td>\n      <td>...</td>\n      <td>...</td>\n      <td>...</td>\n      <td>...</td>\n      <td>...</td>\n      <td>...</td>\n    </tr>\n    <tr>\n      <th>545</th>\n      <td>499146641578138</td>\n      <td>🇦🇹 Im Zuge des Steyr-Besuchs gab es auch einen...</td>\n      <td>🇦🇹 Im Zuge des Steyr-Besuchs gab es auch einen...</td>\n      <td>„Impfpflicht ist absolute Perversion!“ – Herbe...</td>\n      <td>NaN</td>\n      <td>2022-02-28 18:20:19</td>\n      <td>1646068819</td>\n      <td>NaN</td>\n      <td>https://scontent.xx.fbcdn.net/m1/v/t6/An_UvxJX...</td>\n      <td>[]</td>\n      <td>...</td>\n      <td>NaN</td>\n      <td>1977684662509834</td>\n      <td>NaN</td>\n      <td>NaN</td>\n      <td>[]</td>\n      <td>False</td>\n      <td>2022-06-05 17:59:05.596759</td>\n      <td>NaN</td>\n      <td>NaN</td>\n      <td>NaN</td>\n    </tr>\n    <tr>\n      <th>546</th>\n      <td>499132331579569</td>\n      <td>🇦🇹Ist Österreich überhaupt noch neutral? Oder ...</td>\n      <td>🇦🇹Ist Österreich überhaupt noch neutral? Oder ...</td>\n      <td>NaN</td>\n      <td>NaN</td>\n      <td>2022-02-28 17:52:21</td>\n      <td>1646067141</td>\n      <td>NaN</td>\n      <td>https://scontent.flnz1-1.fna.fbcdn.net/v/t15.5...</td>\n      <td>[]</td>\n      <td>...</td>\n      <td>NaN</td>\n      <td>1977684662509834</td>\n      <td>NaN</td>\n      <td>NaN</td>\n      <td>[]</td>\n      <td>False</td>\n      <td>2022-06-05 17:59:10.458326</td>\n      <td>NaN</td>\n      <td>NaN</td>\n      <td>NaN</td>\n    </tr>\n    <tr>\n      <th>547</th>\n      <td>498970688262400</td>\n      <td>Die Bundesregierung muss so schnell wie möglic...</td>\n      <td>Die Bundesregierung muss so schnell wie möglic...</td>\n      <td>NaN</td>\n      <td>NaN</td>\n      <td>2022-02-28 14:00:05</td>\n      <td>1646053205</td>\n      <td>https://scontent.flnz1-1.fna.fbcdn.net/v/t39.3...</td>\n      <td>https://scontent.flnz1-1.fna.fbcdn.net/v/t39.3...</td>\n      <td>['https://scontent.flnz1-1.fna.fbcdn.net/v/t39...</td>\n      <td>...</td>\n      <td>NaN</td>\n      <td>1977684662509834</td>\n      <td>NaN</td>\n      <td>4.989704e+14</td>\n      <td>['498970408262428']</td>\n      <td>False</td>\n      <td>2022-06-05 17:59:15.877583</td>\n      <td>NaN</td>\n      <td>NaN</td>\n      <td>NaN</td>\n    </tr>\n    <tr>\n      <th>548</th>\n      <td>498962118263257</td>\n      <td>🇦🇹 Der Spaziergang für Grundrechte, Freiheit &amp;...</td>\n      <td>🇦🇹 Der Spaziergang für Grundrechte, Freiheit &amp;...</td>\n      <td>NaN</td>\n      <td>NaN</td>\n      <td>2022-02-28 12:27:35</td>\n      <td>1646047655</td>\n      <td>NaN</td>\n      <td>https://scontent.flnz1-1.fna.fbcdn.net/v/t15.5...</td>\n      <td>[]</td>\n      <td>...</td>\n      <td>NaN</td>\n      <td>1977684662509834</td>\n      <td>NaN</td>\n      <td>NaN</td>\n      <td>[]</td>\n      <td>False</td>\n      <td>2022-06-05 17:59:21.657388</td>\n      <td>NaN</td>\n      <td>NaN</td>\n      <td>NaN</td>\n    </tr>\n    <tr>\n      <th>549</th>\n      <td>498566964969439</td>\n      <td>DANKE OBERÖSTERREICH! 💙\\n\\n🇦🇹 Gerade in Oberös...</td>\n      <td>DANKE OBERÖSTERREICH! 💙\\n\\n🇦🇹 Gerade in Oberös...</td>\n      <td>NaN</td>\n      <td>NaN</td>\n      <td>2022-02-27 20:00:47</td>\n      <td>1645988447</td>\n      <td>NaN</td>\n      <td>https://scontent.flnz1-1.fna.fbcdn.net/v/t39.3...</td>\n      <td>[None, None, None, None, None, None, None, None]</td>\n      <td>...</td>\n      <td>NaN</td>\n      <td>1977684662509834</td>\n      <td>NaN</td>\n      <td>NaN</td>\n      <td>[]</td>\n      <td>False</td>\n      <td>2022-06-05 17:59:35.588928</td>\n      <td>[]</td>\n      <td>[]</td>\n      <td>NaN</td>\n    </tr>\n  </tbody>\n</table>\n<p>550 rows × 54 columns</p>\n</div>"
     },
     "execution_count": 4,
     "metadata": {},
     "output_type": "execute_result"
    }
   ],
   "source": [
    "posts"
   ],
   "metadata": {
    "collapsed": false,
    "pycharm": {
     "name": "#%%\n"
    }
   }
  },
  {
   "cell_type": "code",
   "execution_count": 5,
   "outputs": [
    {
     "data": {
      "text/plain": "6      www.unzensuriert.at\n23     www.unzensuriert.at\n25                fb.watch\n41                youtu.be\n45                youtu.be\n              ...         \n529                auf1.tv\n535    www.unzensuriert.at\n536                auf1.tv\n537                auf1.tv\n540            www.fpoe.at\nName: link, Length: 100, dtype: object"
     },
     "execution_count": 5,
     "metadata": {},
     "output_type": "execute_result"
    }
   ],
   "source": [
    "linked_urls = posts['link'].dropna().apply(lambda x: urllib.parse.urlparse(x)[1])\n",
    "linked_urls"
   ],
   "metadata": {
    "collapsed": false,
    "pycharm": {
     "name": "#%%\n"
    }
   }
  },
  {
   "cell_type": "code",
   "execution_count": 6,
   "outputs": [
    {
     "data": {
      "text/plain": "<Figure size 432x288 with 1 Axes>",
      "image/png": "[encoded data removed]"
     },
     "metadata": {
      "needs_background": "light"
     },
     "output_type": "display_data"
    }
   ],
   "source": [
    "linked_urls.hist(xrot=90)\n",
    "plt.show()"
   ],
   "metadata": {
    "collapsed": false,
    "pycharm": {
     "name": "#%%\n"
    }
   }
  },
  {
   "cell_type": "code",
   "execution_count": 37,
   "outputs": [],
   "source": [
    "def get_references(text: str):\n",
    "    references = []\n",
    "    pos = text.find('@')\n",
    "    while pos != -1:\n",
    "        references.append(text[pos:text.find(' ', pos)])\n",
    "        pos = text.find('@', pos + 1)\n",
    "    print(f'{text[:10]} -> {references}')\n",
    "    return references"
   ],
   "metadata": {
    "collapsed": false,
    "pycharm": {
     "name": "#%%\n"
    }
   }
  },
  {
   "cell_type": "code",
   "execution_count": 38,
   "outputs": [
    {
     "name": "stdout",
     "output_type": "stream",
     "text": [
      "Nehammers  -> []\n",
      "Während di -> []\n",
      "98 Prozent -> []\n",
      "Im Bundesr -> []\n",
      "Im Bundesr -> []\n",
      "Viele öste -> []\n",
      "Der aktuel -> []\n",
      "Jetzt best -> []\n",
      "Ich wünsch -> []\n",
      "Diese Woch -> []\n",
      "Der „schwa -> []\n",
      "Der „schwa -> []\n",
      "Wie mehrer -> []\n",
      "Der ORF sc -> []\n",
      "Der Künigl -> []\n",
      "ÖVP-Kanzle -> []\n",
      "⛽ Kurz vor -> []\n",
      "Das muss m -> []\n",
      "Jene Dame, -> []\n",
      "Die schwar -> []\n",
      "Eine sehen -> []\n",
      "➡️ Die Inf -> []\n",
      "➡️ Die Inf -> []\n",
      "😡 Vollkomm -> []\n",
      "Jetzt komm -> []\n",
      "Während vi -> []\n",
      "🚗Deutsche  -> []\n",
      "In Davos e -> []\n",
      "Die ÖVP ha -> ['@schwarzerfaden.a']\n",
      "Die ÖVP ha -> ['@schwarzerfaden.at\\n\\nDer']\n",
      "Die Inflat -> []\n",
      "Alle Mache -> []\n",
      "Es kann ni -> []\n",
      "Es ist nur -> []\n",
      "Einfach un -> []\n",
      "➡️ Die FPÖ -> []\n",
      "➡️ Die FPÖ -> []\n",
      "Wohlstand  -> []\n",
      "💉 Eine par -> []\n",
      "Und diese  -> []\n",
      "In Frankre -> []\n",
      "Hier könnt -> []\n",
      "Habt ihr e -> []\n",
      "FPÖ-Verfas -> []\n",
      "In diesem  -> []\n",
      "Wir haben  -> []\n",
      "➡️ Van der -> []\n",
      "Während si -> []\n",
      "Während Un -> []\n",
      "Ganz Öster -> []\n",
      "🇦🇹 Ein tol -> []\n",
      "Van der Be -> []\n",
      "Van der Be -> []\n",
      "😤 Der Coro -> []\n",
      "😤 Der Coro -> []\n",
      "Der Chefre -> []\n",
      "Der Chefre -> []\n",
      "Kaum hat V -> []\n",
      "📍Im Zuge m -> []\n",
      "💙 Sensatio -> []\n",
      "Die Masken -> []\n",
      "Die SPÖ is -> []\n",
      "Am heutige -> []\n",
      "Das Masken -> []\n",
      "Die aktuel -> []\n",
      "Kostenlawi -> []\n",
      "Ein absolu -> []\n",
      "Mit Alexan -> []\n",
      "Der Wahlka -> []\n",
      "Dass die P -> []\n",
      "Mit Alexan -> []\n",
      "Eine völli -> []\n",
      "Diese Regi -> []\n",
      "Wir können -> []\n",
      "In immer m -> []\n",
      "Auch wenn  -> []\n",
      "Was redet  -> []\n",
      "Für Staats -> []\n",
      "Ein Krieg  -> []\n",
      "Ein Krieg  -> []\n",
      "Van der Be -> []\n",
      "Eine durch -> []\n",
      "Vorarlberg -> []\n",
      "🇭🇺 Der ung -> []\n",
      "Ein türkis -> []\n",
      "Dürfen wir -> []\n",
      "Im Parlame -> []\n",
      "Selbstbesc -> []\n",
      "In der EU  -> []\n",
      "Wir haben  -> []\n",
      "Der Corona -> []\n",
      "Der Corona -> []\n",
      "Als Bundes -> []\n",
      "Nach dem d -> []\n",
      "Nach dem d -> []\n",
      "🗣️ Heute w -> []\n",
      "🗣️ Heute w -> []\n",
      "➡️ Sie lei -> []\n",
      "➡️ Sie lei -> []\n",
      "Bundeskanz -> []\n",
      "Für die Be -> []\n",
      "Der ÖVP ge -> []\n",
      "🚧 Die „grö -> []\n",
      "Die schwar -> []\n",
      "Während di -> []\n",
      "Während di -> []\n",
      "Pleitewell -> []\n",
      "Wirtschaft -> []\n",
      "Während ÖV -> []\n",
      "Kanzler Ne -> []\n",
      "Es ist ein -> []\n",
      "⚠️ Unfassb -> []\n",
      "Der mutmaß -> []\n",
      "🗳️ Nächste -> []\n",
      "⚠️Bitte hö -> []\n",
      "Ob sich He -> []\n",
      "🇦🇹Vielen D -> []\n",
      "📷Hier noch -> []\n",
      "⚠️Wirklich -> []\n",
      "Die SPÖ tr -> []\n",
      "🇦🇹Unser Ge -> []\n",
      "💙 Die nett -> []\n",
      "⛽ Während  -> []\n",
      "Der einzig -> []\n",
      "ÖVP - GAME -> []\n",
      "Noch Frage -> []\n",
      "Die Regier -> []\n",
      "Die Regier -> []\n",
      "Lebensmitt -> []\n",
      "Lebensmitt -> []\n",
      "Die NATO k -> []\n",
      "Anlässlich -> []\n",
      "Bei der Pr -> []\n",
      "Nehammer i -> []\n",
      "Die Russla -> []\n",
      "In Zeiten  -> []\n",
      "Ich stehe  -> []\n",
      "Jeder Tag  -> []\n",
      "Sowohl die -> []\n",
      "Diese Bund -> []\n",
      "Nicht einm -> []\n",
      "Nicht einm -> []\n",
      "Die ÖVP fü -> []\n",
      "Es reicht  -> []\n",
      "Die heute  -> []\n",
      "Im gestrig -> []\n",
      "🇦🇹 Am Mont -> []\n",
      "Könnt ihr  -> []\n",
      "Wie soll j -> []\n",
      "Wir wollen -> []\n",
      "Wir haben  -> []\n",
      "Wer denkt, -> []\n",
      "ÖVP-Landwi -> []\n",
      "Die schwar -> []\n",
      "Hier gibt  -> []\n",
      "Hier gibt  -> []\n",
      "Ich forder -> []\n",
      "Hans-Werne -> []\n",
      "Ich frage  -> []\n",
      "➡️ Die let -> []\n",
      "📺 Heute ha -> []\n",
      "Der Mutter -> []\n",
      "Das Wasser -> []\n",
      "Unsere Reg -> []\n",
      "Namhafte W -> []\n",
      "Wie lange  -> []\n",
      "Der Verfas -> []\n",
      "Ein Schelm -> []\n",
      "Das Bild,  -> []\n",
      "Dieser Man -> []\n",
      "Die Österr -> []\n",
      "Von der Le -> []\n",
      "Diese Regi -> []\n",
      "Die FPÖ is -> []\n",
      "Die Regier -> []\n",
      "Unsere Reg -> []\n",
      "Mit der ÖV -> []\n",
      "❌110 illeg -> []\n",
      "❌110 illeg -> []\n",
      "Die EU-Kom -> []\n",
      "Die Wiener -> []\n",
      "Unser Land -> []\n",
      "Geht es na -> []\n",
      "In ihrem a -> []\n",
      "In ihrem a -> []\n",
      "Das ÖVP-Mi -> []\n",
      "Die SPÖ is -> []\n",
      "Der katast -> []\n",
      "Rendi-Wagn -> []\n",
      "Der FPÖ is -> []\n",
      "Gehts eige -> []\n",
      "Das system -> []\n",
      "🇦🇹 Ganz na -> []\n",
      "Laut SPÖ-A -> []\n",
      "Die FPÖ st -> []\n",
      "Jeder soll -> []\n",
      "In einem a -> []\n",
      "Ab in den  -> []\n",
      "🇦🇹Es brauc -> []\n",
      "Hier meine -> []\n",
      "Hier meine -> []\n",
      "Der 1. Mai -> []\n",
      "🇦🇹Wir lieb -> []\n",
      "Jetzt ist  -> []\n",
      "DANKE für  -> []\n",
      "Guten Morg -> []\n",
      "Für alle,  -> []\n",
      "Herr Peter -> []\n",
      "Herr Peter -> []\n",
      "Während si -> []\n",
      "🏃🏽Ich habe -> []\n",
      "⚠️ MORGEN  -> []\n",
      "Die ÖVP un -> []\n",
      "Zuwanderun -> []\n",
      "Sind das j -> []\n",
      "Wow, ein e -> []\n",
      "Die Politi -> []\n",
      "💉💶 Das kos -> []\n",
      "🔍Ein Blick -> []\n",
      "Angesichts -> []\n",
      "Die FPÖ st -> []\n",
      "Die FPÖ st -> []\n",
      "Diese Regi -> []\n",
      "Türkis-Grü -> []\n",
      "Liebe Öste -> []\n",
      "🇦🇹Wir mach -> []\n",
      "Allein das -> []\n",
      "Der ÖVP-Bu -> []\n",
      "Nehammer h -> []\n",
      "Nehammer h -> []\n",
      "Die Bürger -> []\n",
      "💬 Im aktue -> []\n",
      "💬 Im aktue -> []\n",
      "Die Mensch -> []\n",
      "Die ÖVP ve -> []\n",
      "Karl Neham -> []\n",
      "Alles wird -> []\n",
      "🇦🇹 Die Woc -> []\n",
      "😢 Erschrec -> []\n",
      "Die Bundes -> []\n",
      "Der Sieg v -> []\n",
      "Sonderbar, -> []\n",
      "🇫🇷 Die FPÖ -> []\n",
      "Die SPÖ wü -> []\n",
      "Am Donners -> []\n",
      "Am Donners -> []\n",
      "Laut einer -> []\n",
      "Der Millio -> []\n",
      "Unfassbar: -> []\n",
      "Unfassbar: -> []\n",
      "Was ist mi -> []\n",
      "Dass die R -> []\n",
      "Am Donners -> []\n",
      "Wie man es -> []\n",
      "Laut einem -> []\n",
      "Der Millio -> []\n",
      "Das bleibt -> []\n",
      "Da fehlen  -> []\n",
      "\"Zahlreich -> []\n",
      "\"Zahlreich -> []\n",
      "Heute war  -> []\n",
      "Hunderttau -> []\n",
      "Die Teueru -> []\n",
      "Die bisher -> []\n",
      "Der islami -> []\n",
      "Der pure W -> []\n",
      "Die schwar -> []\n",
      "Der mutige -> []\n"
     ]
    },
    {
     "ename": "AttributeError",
     "evalue": "'float' object has no attribute 'find'",
     "output_type": "error",
     "traceback": [
      "\u001B[0;31m---------------------------------------------------------------------------\u001B[0m",
      "\u001B[0;31mAttributeError\u001B[0m                            Traceback (most recent call last)",
      "Input \u001B[0;32mIn [38]\u001B[0m, in \u001B[0;36m<cell line: 1>\u001B[0;34m()\u001B[0m\n\u001B[0;32m----> 1\u001B[0m referenced \u001B[38;5;241m=\u001B[39m \u001B[43mposts\u001B[49m\u001B[43m[\u001B[49m\u001B[38;5;124;43m'\u001B[39;49m\u001B[38;5;124;43mtext\u001B[39;49m\u001B[38;5;124;43m'\u001B[39;49m\u001B[43m]\u001B[49m\u001B[38;5;241;43m.\u001B[39;49m\u001B[43mapply\u001B[49m\u001B[43m(\u001B[49m\u001B[38;5;28;43;01mlambda\u001B[39;49;00m\u001B[43m \u001B[49m\u001B[43mx\u001B[49m\u001B[43m:\u001B[49m\u001B[43m \u001B[49m\u001B[43mget_references\u001B[49m\u001B[43m(\u001B[49m\u001B[43mx\u001B[49m\u001B[43m)\u001B[49m\u001B[43m)\u001B[49m\n",
      "File \u001B[0;32m~/anaconda3/envs/notebooks/lib/python3.8/site-packages/pandas/core/series.py:4433\u001B[0m, in \u001B[0;36mSeries.apply\u001B[0;34m(self, func, convert_dtype, args, **kwargs)\u001B[0m\n\u001B[1;32m   4323\u001B[0m \u001B[38;5;28;01mdef\u001B[39;00m \u001B[38;5;21mapply\u001B[39m(\n\u001B[1;32m   4324\u001B[0m     \u001B[38;5;28mself\u001B[39m,\n\u001B[1;32m   4325\u001B[0m     func: AggFuncType,\n\u001B[0;32m   (...)\u001B[0m\n\u001B[1;32m   4328\u001B[0m     \u001B[38;5;241m*\u001B[39m\u001B[38;5;241m*\u001B[39mkwargs,\n\u001B[1;32m   4329\u001B[0m ) \u001B[38;5;241m-\u001B[39m\u001B[38;5;241m>\u001B[39m DataFrame \u001B[38;5;241m|\u001B[39m Series:\n\u001B[1;32m   4330\u001B[0m     \u001B[38;5;124;03m\"\"\"\u001B[39;00m\n\u001B[1;32m   4331\u001B[0m \u001B[38;5;124;03m    Invoke function on values of Series.\u001B[39;00m\n\u001B[1;32m   4332\u001B[0m \n\u001B[0;32m   (...)\u001B[0m\n\u001B[1;32m   4431\u001B[0m \u001B[38;5;124;03m    dtype: float64\u001B[39;00m\n\u001B[1;32m   4432\u001B[0m \u001B[38;5;124;03m    \"\"\"\u001B[39;00m\n\u001B[0;32m-> 4433\u001B[0m     \u001B[38;5;28;01mreturn\u001B[39;00m \u001B[43mSeriesApply\u001B[49m\u001B[43m(\u001B[49m\u001B[38;5;28;43mself\u001B[39;49m\u001B[43m,\u001B[49m\u001B[43m \u001B[49m\u001B[43mfunc\u001B[49m\u001B[43m,\u001B[49m\u001B[43m \u001B[49m\u001B[43mconvert_dtype\u001B[49m\u001B[43m,\u001B[49m\u001B[43m \u001B[49m\u001B[43margs\u001B[49m\u001B[43m,\u001B[49m\u001B[43m \u001B[49m\u001B[43mkwargs\u001B[49m\u001B[43m)\u001B[49m\u001B[38;5;241;43m.\u001B[39;49m\u001B[43mapply\u001B[49m\u001B[43m(\u001B[49m\u001B[43m)\u001B[49m\n",
      "File \u001B[0;32m~/anaconda3/envs/notebooks/lib/python3.8/site-packages/pandas/core/apply.py:1082\u001B[0m, in \u001B[0;36mSeriesApply.apply\u001B[0;34m(self)\u001B[0m\n\u001B[1;32m   1078\u001B[0m \u001B[38;5;28;01mif\u001B[39;00m \u001B[38;5;28misinstance\u001B[39m(\u001B[38;5;28mself\u001B[39m\u001B[38;5;241m.\u001B[39mf, \u001B[38;5;28mstr\u001B[39m):\n\u001B[1;32m   1079\u001B[0m     \u001B[38;5;66;03m# if we are a string, try to dispatch\u001B[39;00m\n\u001B[1;32m   1080\u001B[0m     \u001B[38;5;28;01mreturn\u001B[39;00m \u001B[38;5;28mself\u001B[39m\u001B[38;5;241m.\u001B[39mapply_str()\n\u001B[0;32m-> 1082\u001B[0m \u001B[38;5;28;01mreturn\u001B[39;00m \u001B[38;5;28;43mself\u001B[39;49m\u001B[38;5;241;43m.\u001B[39;49m\u001B[43mapply_standard\u001B[49m\u001B[43m(\u001B[49m\u001B[43m)\u001B[49m\n",
      "File \u001B[0;32m~/anaconda3/envs/notebooks/lib/python3.8/site-packages/pandas/core/apply.py:1137\u001B[0m, in \u001B[0;36mSeriesApply.apply_standard\u001B[0;34m(self)\u001B[0m\n\u001B[1;32m   1131\u001B[0m         values \u001B[38;5;241m=\u001B[39m obj\u001B[38;5;241m.\u001B[39mastype(\u001B[38;5;28mobject\u001B[39m)\u001B[38;5;241m.\u001B[39m_values\n\u001B[1;32m   1132\u001B[0m         \u001B[38;5;66;03m# error: Argument 2 to \"map_infer\" has incompatible type\u001B[39;00m\n\u001B[1;32m   1133\u001B[0m         \u001B[38;5;66;03m# \"Union[Callable[..., Any], str, List[Union[Callable[..., Any], str]],\u001B[39;00m\n\u001B[1;32m   1134\u001B[0m         \u001B[38;5;66;03m# Dict[Hashable, Union[Union[Callable[..., Any], str],\u001B[39;00m\n\u001B[1;32m   1135\u001B[0m         \u001B[38;5;66;03m# List[Union[Callable[..., Any], str]]]]]\"; expected\u001B[39;00m\n\u001B[1;32m   1136\u001B[0m         \u001B[38;5;66;03m# \"Callable[[Any], Any]\"\u001B[39;00m\n\u001B[0;32m-> 1137\u001B[0m         mapped \u001B[38;5;241m=\u001B[39m \u001B[43mlib\u001B[49m\u001B[38;5;241;43m.\u001B[39;49m\u001B[43mmap_infer\u001B[49m\u001B[43m(\u001B[49m\n\u001B[1;32m   1138\u001B[0m \u001B[43m            \u001B[49m\u001B[43mvalues\u001B[49m\u001B[43m,\u001B[49m\n\u001B[1;32m   1139\u001B[0m \u001B[43m            \u001B[49m\u001B[43mf\u001B[49m\u001B[43m,\u001B[49m\u001B[43m  \u001B[49m\u001B[38;5;66;43;03m# type: ignore[arg-type]\u001B[39;49;00m\n\u001B[1;32m   1140\u001B[0m \u001B[43m            \u001B[49m\u001B[43mconvert\u001B[49m\u001B[38;5;241;43m=\u001B[39;49m\u001B[38;5;28;43mself\u001B[39;49m\u001B[38;5;241;43m.\u001B[39;49m\u001B[43mconvert_dtype\u001B[49m\u001B[43m,\u001B[49m\n\u001B[1;32m   1141\u001B[0m \u001B[43m        \u001B[49m\u001B[43m)\u001B[49m\n\u001B[1;32m   1143\u001B[0m \u001B[38;5;28;01mif\u001B[39;00m \u001B[38;5;28mlen\u001B[39m(mapped) \u001B[38;5;129;01mand\u001B[39;00m \u001B[38;5;28misinstance\u001B[39m(mapped[\u001B[38;5;241m0\u001B[39m], ABCSeries):\n\u001B[1;32m   1144\u001B[0m     \u001B[38;5;66;03m# GH#43986 Need to do list(mapped) in order to get treated as nested\u001B[39;00m\n\u001B[1;32m   1145\u001B[0m     \u001B[38;5;66;03m#  See also GH#25959 regarding EA support\u001B[39;00m\n\u001B[1;32m   1146\u001B[0m     \u001B[38;5;28;01mreturn\u001B[39;00m obj\u001B[38;5;241m.\u001B[39m_constructor_expanddim(\u001B[38;5;28mlist\u001B[39m(mapped), index\u001B[38;5;241m=\u001B[39mobj\u001B[38;5;241m.\u001B[39mindex)\n",
      "File \u001B[0;32m~/anaconda3/envs/notebooks/lib/python3.8/site-packages/pandas/_libs/lib.pyx:2870\u001B[0m, in \u001B[0;36mpandas._libs.lib.map_infer\u001B[0;34m()\u001B[0m\n",
      "Input \u001B[0;32mIn [38]\u001B[0m, in \u001B[0;36m<lambda>\u001B[0;34m(x)\u001B[0m\n\u001B[0;32m----> 1\u001B[0m referenced \u001B[38;5;241m=\u001B[39m posts[\u001B[38;5;124m'\u001B[39m\u001B[38;5;124mtext\u001B[39m\u001B[38;5;124m'\u001B[39m]\u001B[38;5;241m.\u001B[39mapply(\u001B[38;5;28;01mlambda\u001B[39;00m x: \u001B[43mget_references\u001B[49m\u001B[43m(\u001B[49m\u001B[43mx\u001B[49m\u001B[43m)\u001B[49m)\n",
      "Input \u001B[0;32mIn [37]\u001B[0m, in \u001B[0;36mget_references\u001B[0;34m(text)\u001B[0m\n\u001B[1;32m      1\u001B[0m \u001B[38;5;28;01mdef\u001B[39;00m \u001B[38;5;21mget_references\u001B[39m(text: \u001B[38;5;28mstr\u001B[39m):\n\u001B[1;32m      2\u001B[0m     references \u001B[38;5;241m=\u001B[39m []\n\u001B[0;32m----> 3\u001B[0m     pos \u001B[38;5;241m=\u001B[39m \u001B[43mtext\u001B[49m\u001B[38;5;241;43m.\u001B[39;49m\u001B[43mfind\u001B[49m(\u001B[38;5;124m'\u001B[39m\u001B[38;5;124m@\u001B[39m\u001B[38;5;124m'\u001B[39m)\n\u001B[1;32m      4\u001B[0m     \u001B[38;5;28;01mwhile\u001B[39;00m pos \u001B[38;5;241m!=\u001B[39m \u001B[38;5;241m-\u001B[39m\u001B[38;5;241m1\u001B[39m:\n\u001B[1;32m      5\u001B[0m         references\u001B[38;5;241m.\u001B[39mappend(text[pos:text\u001B[38;5;241m.\u001B[39mfind(\u001B[38;5;124m'\u001B[39m\u001B[38;5;124m \u001B[39m\u001B[38;5;124m'\u001B[39m, pos)])\n",
      "\u001B[0;31mAttributeError\u001B[0m: 'float' object has no attribute 'find'"
     ]
    }
   ],
   "source": [
    "referenced = posts['text'].apply(lambda x: get_references(x))"
   ],
   "metadata": {
    "collapsed": false,
    "pycharm": {
     "name": "#%%\n"
    }
   }
  },
  {
   "cell_type": "code",
   "execution_count": 35,
   "outputs": [
    {
     "data": {
      "text/plain": "<Figure size 432x288 with 1 Axes>",
      "image/png": "[encoded data removed]"
     },
     "metadata": {
      "needs_background": "light"
     },
     "output_type": "display_data"
    }
   ],
   "source": [
    "post_hour = posts['timestamp'].apply(lambda x: datetime.datetime.utcfromtimestamp(x)).apply(lambda x: x.hour + x.minute / 60)\n",
    "post_hour.hist(bins=24 * 8, xrot=90)\n",
    "plt.show()"
   ],
   "metadata": {
    "collapsed": false,
    "pycharm": {
     "name": "#%%\n"
    }
   }
  },
  {
   "cell_type": "code",
   "execution_count": 26,
   "outputs": [
    {
     "data": {
      "text/plain": "9858"
     },
     "execution_count": 26,
     "metadata": {},
     "output_type": "execute_result"
    }
   ],
   "source": [
    "(posts['text'].dropna().apply(len) - posts['post_text'].dropna().apply(len)).sum()"
   ],
   "metadata": {
    "collapsed": false,
    "pycharm": {
     "name": "#%%\n"
    }
   }
  },
  {
   "cell_type": "code",
   "execution_count": null,
   "outputs": [],
   "source": [],
   "metadata": {
    "collapsed": false,
    "pycharm": {
     "name": "#%%\n"
    }
   }
  }
 ],
 "metadata": {
  "kernelspec": {
   "display_name": "Python 3",
   "language": "python",
   "name": "python3"
  },
  "language_info": {
   "codemirror_mode": {
    "name": "ipython",
    "version": 2
   },
   "file_extension": ".py",
   "mimetype": "text/x-python",
   "name": "python",
   "nbconvert_exporter": "python",
   "pygments_lexer": "ipython2",
   "version": "2.7.6"
  }
 },
 "nbformat": 4,
 "nbformat_minor": 0
}